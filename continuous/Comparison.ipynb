{
 "cells": [
  {
   "cell_type": "code",
   "execution_count": 1,
   "id": "48085e82",
   "metadata": {},
   "outputs": [],
   "source": [
    "import pandas as pd\n",
    "import pickle\n",
    "import sys\n",
    "sys.path.append('..')\n",
    "from plot import *\n",
    "import numpy as np\n",
    "import os"
   ]
  },
  {
   "cell_type": "code",
   "execution_count": 2,
   "id": "cd2fa6eb",
   "metadata": {},
   "outputs": [],
   "source": [
    "folder = \"result/250-250_0.7_0.8/\""
   ]
  },
  {
   "cell_type": "code",
   "execution_count": 3,
   "id": "12324e6b",
   "metadata": {},
   "outputs": [],
   "source": [
    "### read result from ST with scaling sigmasq\n",
    "num_data = 100\n",
    "d = 200\n",
    "truncate = 1\n",
    "sigmasq = 0.5\n",
    "rho_0 = 10\n",
    "Niter = 3100\n",
    "step = 0.1\n",
    "error_ST = np.zeros(shape = (6, num_data, Niter))\n",
    "time_ST = np.zeros(shape = (num_data, Niter))\n",
    "iter_max = np.zeros(shape = (num_data), dtype = np.int32)\n",
    "for ii in range(0,num_data):\n",
    "    with open(folder + 'NormInitm1_ST_%.1f_%.1f_%.1f_%f/error-time%i.pkl' %(truncate, sigmasq, rho_0, step, ii), 'rb') as f:  # Python 3: open(..., 'wb')\n",
    "        error, Res_theta, Res_delta= pickle.load(f)\n",
    "        iter_max[ii] = len(error)\n",
    "        error_ST[0:2, ii, :iter_max[ii]] = error[:, 2:4].T\n",
    "        error_ST[2:6, ii, :iter_max[ii]] = error[:, 5:9].T\n",
    "        time_ST[ii, :iter_max[ii]] = error[:, 4]\n",
    "#             list1 = np.delete(np.arange(d//2), [0, 5, 10])\n",
    "#             list2 = np.delete(np.arange(d//2, d), [0, 5, 10])\n",
    "#             t1_tnr = 1 - np.sum(Res_delta[I==0][burnin:ll, list1], axis = 1) / (d//2 -3)\n",
    "#             t2_tnr = 1 - np.sum(Res_delta[I==0][burnin:ll, list2], axis = 1) / (d//2 -3)"
   ]
  },
  {
   "cell_type": "code",
   "execution_count": 4,
   "id": "6c99ed9b",
   "metadata": {},
   "outputs": [
    {
     "data": {
      "text/plain": [
       "0.05906766276807697"
      ]
     },
     "execution_count": 4,
     "metadata": {},
     "output_type": "execute_result"
    }
   ],
   "source": [
    "np.mean(error_ST[0, :,1000], axis = 0)"
   ]
  },
  {
   "cell_type": "code",
   "execution_count": 5,
   "id": "a08e0cb8",
   "metadata": {},
   "outputs": [
    {
     "ename": "NameError",
     "evalue": "name 'start_itr' is not defined",
     "output_type": "error",
     "traceback": [
      "\u001b[0;31m---------------------------------------------------------------------------\u001b[0m",
      "\u001b[0;31mNameError\u001b[0m                                 Traceback (most recent call last)",
      "\u001b[0;32m<ipython-input-5-b5ecad803b12>\u001b[0m in \u001b[0;36m<module>\u001b[0;34m\u001b[0m\n\u001b[0;32m----> 1\u001b[0;31m \u001b[0merror_ST\u001b[0m\u001b[0;34m[\u001b[0m\u001b[0;36m2\u001b[0m\u001b[0;34m,\u001b[0m \u001b[0;34m:\u001b[0m\u001b[0;34m,\u001b[0m\u001b[0mstart_itr\u001b[0m\u001b[0;34m:\u001b[0m\u001b[0;36m2000\u001b[0m\u001b[0;34m]\u001b[0m\u001b[0;34m.\u001b[0m\u001b[0mshape\u001b[0m\u001b[0;34m\u001b[0m\u001b[0;34m\u001b[0m\u001b[0m\n\u001b[0m",
      "\u001b[0;31mNameError\u001b[0m: name 'start_itr' is not defined"
     ]
    }
   ],
   "source": [
    "error_ST[2, :,start_itr:2000].shape"
   ]
  },
  {
   "cell_type": "code",
   "execution_count": 13,
   "id": "21258a38",
   "metadata": {},
   "outputs": [
    {
     "data": {
      "text/plain": [
       "array([10.60975456,  9.78985455])"
      ]
     },
     "execution_count": 13,
     "metadata": {},
     "output_type": "execute_result"
    }
   ],
   "source": [
    "### read result from mixedcca\n",
    "iter_mix =  np.zeros(shape = (2, num_data))\n",
    "time_mix =  np.zeros(shape = (2, num_data))\n",
    "for ii in range(0,num_data):\n",
    "    for k in range(2):\n",
    "        res = pd.read_csv(folder +'FALSEmixedcca/error-time%i_%i.csv' %(k+1, ii), header=None, sep = ' ').values\n",
    "        iter_mix[k, ii] = res.shape[1]\n",
    "        time_mix[k, ii] = res[6,-1]\n",
    "np.mean(time_mix, axis = 1)"
   ]
  },
  {
   "cell_type": "code",
   "execution_count": 14,
   "id": "1b969a30",
   "metadata": {},
   "outputs": [],
   "source": [
    "### read result from mixedcca\n",
    "error_mixedcca = np.zeros(shape = (2, 6, num_data, Niter)) ## (BICtype, vector pair, number of experiments, iterations)\n",
    "TPR_mixedcca = np.zeros(shape = (2, 2, num_data, Niter))\n",
    "time_mixedcca = np.zeros(shape = (2, num_data, Niter))\n",
    "iter_mixedcca = np.zeros(shape = (2, num_data), dtype = np.int32)\n",
    "for ii in range(0,num_data):\n",
    "    for k in range(2):\n",
    "        res = pd.read_csv(folder +'FALSEmixedcca/error-time%i_%i.csv' %(k+1, ii), header=None, sep = ' ').values\n",
    "        iter_mix = res.shape[1]\n",
    "        iter_mixedcca[k, ii] = iter_mix\n",
    "        error_mixedcca[k, :,ii, 0] = error_ST[:, ii, 0]\n",
    "        error_mixedcca[k, :,ii, 1:(iter_mix+1)] = res[:6,:]\n",
    "        error_mixedcca[k, :,ii, (iter_mix+1):] = np.tile(res[:6,-1],(Niter - iter_mix-1, 1 )).T\n",
    "        time_mixedcca[k, ii, :] = res[6,-1]/iter_mix * np.arange(Niter)\n",
    "        "
   ]
  },
  {
   "cell_type": "code",
   "execution_count": null,
   "id": "ee65a4c2",
   "metadata": {},
   "outputs": [],
   "source": [
    "np.mean(error_mixedcca[:, 0, :, -1], axis = 1)"
   ]
  },
  {
   "cell_type": "code",
   "execution_count": 6,
   "id": "12bde280",
   "metadata": {
    "scrolled": true
   },
   "outputs": [],
   "source": [
    "### read result from rifle\n",
    "error_rifle = np.zeros(shape = (6, num_data, Niter)) ## (BICtype, vector pair, number of experiments, iterations)\n",
    "time_rifle = np.zeros(shape = (num_data, Niter))\n",
    "for ii in range(0,num_data):\n",
    "    res = pd.read_csv(folder +'rifle/error-time%i.csv' %(ii), header=None, sep = ' ').values\n",
    "    iter_rifle = res.shape[1]\n",
    "    error_rifle[ :,ii, :iter_rifle] = res[:6,:]\n",
    "    error_rifle[ :,ii, iter_rifle:] = np.tile(res[:6,-1],(Niter - iter_rifle, 1 )).T\n",
    "#     print(iter_rifle, res[6,-1])\n",
    "    time_rifle[ ii, :] = res[6,-1]/iter_rifle * np.arange(Niter)"
   ]
  },
  {
   "cell_type": "code",
   "execution_count": 7,
   "id": "81d2aaaa",
   "metadata": {},
   "outputs": [
    {
     "data": {
      "text/plain": [
       "array([0.17334809, 0.17334409, 0.17334007, 0.17333603, 0.17333196,\n",
       "       0.17332787, 0.17332377, 0.17331964, 0.17331552, 0.17331142,\n",
       "       0.17330735, 0.17330329, 0.17329926, 0.17329526, 0.17329127,\n",
       "       0.17328731, 0.17328337, 0.17327945, 0.17327556, 0.17327169,\n",
       "       0.17326784, 0.17326401, 0.17326021, 0.17325643, 0.17325267,\n",
       "       0.17324894, 0.17324528, 0.17324168, 0.17323813, 0.17323463,\n",
       "       0.17323117, 0.17322776, 0.1732244 , 0.17322109, 0.17321782,\n",
       "       0.1732146 , 0.17321141, 0.17320828, 0.17320518, 0.17320212,\n",
       "       0.17319911, 0.17319613, 0.1731932 , 0.1731903 , 0.17318744,\n",
       "       0.17318461, 0.17318183, 0.17317907, 0.17317636, 0.17317368,\n",
       "       0.17317103, 0.17316842, 0.17316583, 0.17316329, 0.17316077,\n",
       "       0.17315828, 0.17315583, 0.1731534 , 0.17315101, 0.17314865,\n",
       "       0.17314631, 0.173144  , 0.17314172, 0.17313947, 0.17313725,\n",
       "       0.17313509, 0.17313298, 0.17313093, 0.17312892, 0.17312697,\n",
       "       0.17312507, 0.17312322, 0.17312141, 0.17311965, 0.17311793,\n",
       "       0.17311626, 0.17311463, 0.17311304, 0.17311149, 0.17310999,\n",
       "       0.17310851, 0.17310708, 0.17310568, 0.17310431, 0.17310297,\n",
       "       0.17310167, 0.1731004 , 0.17309916, 0.17309795, 0.17309677,\n",
       "       0.17309561, 0.17309449, 0.17309339, 0.17309232, 0.17309127,\n",
       "       0.17309025, 0.17308926, 0.17308829, 0.17308734, 0.17308642,\n",
       "       0.17308552, 0.17308464, 0.17308378, 0.17308295, 0.17308213,\n",
       "       0.17308134, 0.17308056, 0.17307981, 0.17307907, 0.17307835,\n",
       "       0.17307765, 0.17307697, 0.17307631, 0.17307566, 0.17307503,\n",
       "       0.17307442, 0.17307379, 0.17307317, 0.17307254, 0.1730719 ,\n",
       "       0.17307126, 0.17307062, 0.17307002, 0.17306946, 0.17306897,\n",
       "       0.17306854, 0.17306817, 0.17306786, 0.17306769, 0.17306761,\n",
       "       0.17306763, 0.17306775, 0.17306796, 0.17306827, 0.17306866,\n",
       "       0.17306913, 0.17306969, 0.17307033, 0.17307105, 0.17307185,\n",
       "       0.17307272, 0.17307366, 0.17307467, 0.17307574, 0.17307688,\n",
       "       0.17307809, 0.17307936, 0.17308067, 0.17308206, 0.1730835 ,\n",
       "       0.17308499, 0.17308654, 0.17308814, 0.17308979, 0.17309148,\n",
       "       0.17309322, 0.173095  , 0.17309683, 0.17309869, 0.1731006 ,\n",
       "       0.17310255, 0.17310453, 0.17310655, 0.17310869, 0.17311092,\n",
       "       0.17311324, 0.17311564, 0.17311812, 0.17312067, 0.17312329,\n",
       "       0.17312599, 0.17312875, 0.17313158, 0.17313446, 0.17313741,\n",
       "       0.17314042, 0.17314347, 0.17314659, 0.17314975, 0.17315296,\n",
       "       0.17315621, 0.17315951, 0.17316286, 0.17316624, 0.17316966,\n",
       "       0.17317312, 0.17317661, 0.17318013, 0.17318368, 0.17318727,\n",
       "       0.17319088, 0.17319452, 0.17319818, 0.17320187, 0.17320555,\n",
       "       0.17320928, 0.17321302, 0.17321679, 0.17322057, 0.17322437,\n",
       "       0.17322818, 0.173232  , 0.17323583, 0.17323968, 0.17324353,\n",
       "       0.1732474 , 0.17325127, 0.17325515, 0.17325903, 0.17326291,\n",
       "       0.17326681, 0.1732707 , 0.17327459, 0.17327849, 0.17328238,\n",
       "       0.17328628, 0.17329017, 0.17329407, 0.17329795, 0.17330184,\n",
       "       0.17330572, 0.1733096 , 0.17331347, 0.17331733, 0.17332119,\n",
       "       0.17332504, 0.17332889, 0.17333272, 0.17333655, 0.17334036,\n",
       "       0.17334417, 0.17334797, 0.17335175, 0.17335553, 0.17335929,\n",
       "       0.17336305, 0.17336679, 0.17337051, 0.17337423, 0.17337793,\n",
       "       0.17338161, 0.17338529, 0.17338895, 0.17339259, 0.17339622,\n",
       "       0.17339983, 0.17340343, 0.17340702, 0.17341058, 0.17341413,\n",
       "       0.17341767, 0.17342119, 0.17342469, 0.17342818, 0.17343164,\n",
       "       0.17343509, 0.17343853, 0.17344194, 0.17344534, 0.17344872,\n",
       "       0.17345209, 0.17345543, 0.17345876, 0.17346207, 0.17346536,\n",
       "       0.17346863, 0.17347188, 0.17347512, 0.17347833, 0.17348153,\n",
       "       0.17348471, 0.17348787, 0.17349101, 0.17349413, 0.17349723,\n",
       "       0.17350032, 0.17350338, 0.17350643, 0.17350946, 0.17351246,\n",
       "       0.17351545, 0.17351847, 0.1735215 , 0.17352453, 0.17352758,\n",
       "       0.17353063, 0.17353368, 0.17353675, 0.17353981, 0.17354288,\n",
       "       0.17354596, 0.17354903, 0.17355211, 0.17355519, 0.17355827,\n",
       "       0.17356134, 0.17356442, 0.17356749, 0.17357056, 0.17357363,\n",
       "       0.17357669, 0.17357975, 0.17358281, 0.17358586, 0.1735889 ,\n",
       "       0.17359194, 0.17359497, 0.17359799, 0.17360101, 0.17360402,\n",
       "       0.17360702, 0.17361001, 0.17361299, 0.17361596, 0.17361916,\n",
       "       0.17362249, 0.17362592, 0.17362947, 0.17363313, 0.17363688,\n",
       "       0.17364074, 0.17364469, 0.17364873, 0.17365286, 0.17365708,\n",
       "       0.17366138, 0.17366575, 0.1736702 , 0.17367472, 0.17367931,\n",
       "       0.17368397, 0.1736887 , 0.17369348, 0.17369832, 0.17370322,\n",
       "       0.17370818, 0.17371318, 0.17371824, 0.17372334, 0.17372849,\n",
       "       0.17373368, 0.17373892, 0.17374419, 0.17374951, 0.17375486,\n",
       "       0.17376024, 0.17376566, 0.17377111, 0.17377659, 0.1737821 ,\n",
       "       0.17378763, 0.17379319, 0.17379878, 0.17380439, 0.17381002,\n",
       "       0.17381568, 0.17382135, 0.17382704, 0.17383276, 0.17383848,\n",
       "       0.17384423, 0.17384998, 0.17385575, 0.17386154, 0.17386734,\n",
       "       0.17387319, 0.17387908, 0.17388501, 0.17389097, 0.17389697,\n",
       "       0.173903  , 0.17385173, 0.1738019 , 0.17375323, 0.17370571,\n",
       "       0.1736593 , 0.17361396, 0.17356966, 0.17352638, 0.17348408,\n",
       "       0.17344274, 0.17340233, 0.17336283, 0.17332421, 0.17328645,\n",
       "       0.17324952, 0.17321341, 0.17317809, 0.17314355, 0.17310976,\n",
       "       0.1730767 , 0.17304436, 0.17301271, 0.17298175, 0.17295146,\n",
       "       0.17292181, 0.1728928 , 0.1728644 , 0.17283661, 0.1728094 ,\n",
       "       0.17278277, 0.17275672, 0.17273121, 0.17270624, 0.17268187,\n",
       "       0.17265805, 0.17263477, 0.17261202, 0.17258979, 0.17256806,\n",
       "       0.17254683, 0.17252609, 0.17250581, 0.172486  , 0.17246664,\n",
       "       0.17244773, 0.17242925, 0.17241119, 0.17239355, 0.17237631,\n",
       "       0.17235948, 0.17234303, 0.17232696, 0.17231126, 0.17229593,\n",
       "       0.17228096, 0.17226634, 0.17225206, 0.17223812, 0.1722245 ,\n",
       "       0.17221121, 0.17219824, 0.17218557, 0.17217321, 0.17216115,\n",
       "       0.17214937, 0.17213789, 0.17212668, 0.17211575, 0.17210509,\n",
       "       0.17209469, 0.17208455, 0.17207466, 0.17206503, 0.17205563,\n",
       "       0.17204648, 0.17203756, 0.17202887, 0.17202041, 0.17201217,\n",
       "       0.17200415, 0.17199634, 0.17198874, 0.17198134, 0.17197415,\n",
       "       0.17200955, 0.17199729, 0.17198523, 0.17197335, 0.17196166,\n",
       "       0.17195014, 0.17193881, 0.17192764, 0.17191665, 0.17190582,\n",
       "       0.17189516, 0.17188466, 0.17187431, 0.17186412, 0.17185409,\n",
       "       0.1718442 , 0.17183447, 0.17182487, 0.17181542, 0.17180611,\n",
       "       0.17179694, 0.1717879 , 0.17177899, 0.1717702 , 0.17176156,\n",
       "       0.17175306, 0.17174469, 0.17173644, 0.17172833, 0.17172034,\n",
       "       0.17171247, 0.17170471, 0.17169708, 0.17168956, 0.17168216,\n",
       "       0.17167487, 0.17166769, 0.17166061, 0.17165364, 0.17164678,\n",
       "       0.17164002, 0.17163336, 0.1716268 , 0.17162033, 0.17161397,\n",
       "       0.17160769, 0.17160151, 0.17159542, 0.17158942, 0.17158351,\n",
       "       0.17157768, 0.17157194, 0.17156629, 0.17156071, 0.17155522,\n",
       "       0.1715498 , 0.17154447, 0.17153921, 0.17153403, 0.17152892,\n",
       "       0.17152388, 0.17151892, 0.17151403, 0.17150921, 0.17150445,\n",
       "       0.17149977, 0.17149515, 0.17149059, 0.1714861 , 0.17148167,\n",
       "       0.17147731, 0.171473  , 0.17146876, 0.17146457, 0.17146045,\n",
       "       0.17145638, 0.17145237, 0.17144841, 0.17144451, 0.17144066,\n",
       "       0.17143686, 0.17143312, 0.17142942, 0.17142578, 0.17142219,\n",
       "       0.17141864, 0.17141515, 0.1714117 , 0.17140829, 0.17140494,\n",
       "       0.17140162, 0.17139836, 0.17139513, 0.17139195, 0.17138881,\n",
       "       0.17138571, 0.17138266, 0.17137964, 0.17137666, 0.17137373,\n",
       "       0.17137083, 0.17136797, 0.17136514, 0.17136235, 0.1713596 ,\n",
       "       0.17135689, 0.17135421, 0.17135156, 0.17134895, 0.17134637,\n",
       "       0.17134382, 0.17134131, 0.17133882, 0.17133637, 0.17133395,\n",
       "       0.17133156, 0.1713292 , 0.17132687, 0.17132457, 0.17132229,\n",
       "       0.17132005, 0.17131783, 0.17131564, 0.17131348, 0.17131134,\n",
       "       0.17130923, 0.17130714, 0.17130508, 0.17130305, 0.17130104,\n",
       "       0.17129905, 0.17129709, 0.17129515, 0.17129323, 0.17129134,\n",
       "       0.17128947, 0.17128762, 0.17128579, 0.17128398, 0.17128219,\n",
       "       0.17128043, 0.17127868, 0.17127696, 0.17127525, 0.17127357,\n",
       "       0.1712719 , 0.17127025, 0.17126862, 0.17126701, 0.17126542,\n",
       "       0.17126385, 0.17126229, 0.17126075, 0.17125922, 0.17125772,\n",
       "       0.17125623, 0.17125475, 0.17125329, 0.17125185, 0.17125043,\n",
       "       0.17124901, 0.17124762, 0.17124624, 0.17124487, 0.17124352,\n",
       "       0.17124218, 0.17124085, 0.17123954, 0.17123824, 0.17123696,\n",
       "       0.17123569, 0.17123443, 0.17123319, 0.17123195, 0.17123073,\n",
       "       0.17122953, 0.17122833, 0.17122715, 0.17122597, 0.17122481,\n",
       "       0.17122366, 0.17122253, 0.1712214 , 0.17122028, 0.17121918,\n",
       "       0.17121808, 0.171217  , 0.17121592, 0.17121486, 0.1712138 ,\n",
       "       0.17121276, 0.17121172, 0.1712107 , 0.17120968, 0.17120867,\n",
       "       0.17120767, 0.17120669, 0.17120571, 0.17120473, 0.17120377,\n",
       "       0.17120282, 0.17120187, 0.17120093, 0.1712    , 0.17119908,\n",
       "       0.17119817, 0.17119726, 0.17119636, 0.17119547, 0.17119459,\n",
       "       0.17119371, 0.17119284, 0.17119198, 0.17119113, 0.17119028,\n",
       "       0.17118944, 0.1711886 , 0.17118777, 0.17118695, 0.17118614,\n",
       "       0.17118533, 0.17118453, 0.17118373, 0.17118294, 0.17118216,\n",
       "       0.17118138, 0.17118061, 0.17117984, 0.17117908, 0.17117832,\n",
       "       0.17117757, 0.17117683, 0.17117609, 0.17117536, 0.17117463,\n",
       "       0.1711739 , 0.17117319, 0.17117247, 0.17117176, 0.17117106,\n",
       "       0.17117036, 0.17116967, 0.17116898, 0.17116829, 0.17116761,\n",
       "       0.17116694, 0.17116627, 0.1711656 , 0.17116494, 0.17116428,\n",
       "       0.17116362, 0.17116297, 0.17116233, 0.17116168, 0.17116105,\n",
       "       0.17116041, 0.17115978, 0.17115915, 0.17115853, 0.17115791,\n",
       "       0.1711573 , 0.17115668, 0.17115607, 0.17115547, 0.17115487,\n",
       "       0.17115427, 0.17115367, 0.17115308, 0.17115249, 0.17115191,\n",
       "       0.17115133, 0.17115075, 0.17115017, 0.1711496 , 0.17114903,\n",
       "       0.17114846, 0.1711479 , 0.17114734, 0.17114678, 0.17114623,\n",
       "       0.17114567, 0.17114512, 0.17114458, 0.17114403, 0.17114349,\n",
       "       0.17114295, 0.17114242, 0.17114188, 0.17114135, 0.17114082,\n",
       "       0.1711403 , 0.17113977, 0.17113925, 0.17113873, 0.17113822,\n",
       "       0.1711377 , 0.17113719, 0.17113668, 0.17113617, 0.17113567,\n",
       "       0.17113516, 0.17113466, 0.17113416, 0.17113366, 0.17113317,\n",
       "       0.17113268, 0.17113219, 0.1711317 , 0.17113121, 0.17113072,\n",
       "       0.17113024, 0.17112976, 0.17112928, 0.1711288 , 0.17112833,\n",
       "       0.17112785, 0.17112738, 0.17112691, 0.17112644, 0.17112598,\n",
       "       0.17112551, 0.17112505, 0.17112459, 0.17112413, 0.17112367,\n",
       "       0.17112321, 0.17112276, 0.1711223 , 0.17112185, 0.1711214 ,\n",
       "       0.17112095, 0.1711205 , 0.17112006, 0.17111961, 0.17111917,\n",
       "       0.17111873, 0.17111829, 0.17111785, 0.17111741, 0.17111697,\n",
       "       0.17111654, 0.17111611, 0.17111567, 0.17111524, 0.17111481,\n",
       "       0.17111439, 0.17111396, 0.17111353, 0.17111311, 0.17111269,\n",
       "       0.17111227, 0.17111185, 0.17111143, 0.17111101, 0.17111059,\n",
       "       0.17111018, 0.17110976, 0.17110935, 0.17110894, 0.17110852,\n",
       "       0.17110811, 0.17110771, 0.1711073 , 0.17110689, 0.17110649,\n",
       "       0.17110608, 0.17110568, 0.17110527, 0.17110487, 0.17110447,\n",
       "       0.17110407, 0.17110368, 0.17110328, 0.17110288, 0.17110249,\n",
       "       0.17110209, 0.1711017 , 0.17110131, 0.17110092, 0.17110052,\n",
       "       0.17110014, 0.17109975, 0.17109936, 0.17109897, 0.17109859,\n",
       "       0.1710982 , 0.17109782, 0.17109743, 0.17109705, 0.17109667,\n",
       "       0.17109629, 0.17109591, 0.17109553, 0.17109515, 0.17109478,\n",
       "       0.1710944 , 0.17109402, 0.17109365, 0.17109328, 0.1710929 ,\n",
       "       0.17109253, 0.17109216, 0.17109179, 0.17109142, 0.17109105,\n",
       "       0.17109068, 0.17109031, 0.17108995, 0.17108958, 0.17108922,\n",
       "       0.17108885, 0.17108849, 0.17108813, 0.17108776, 0.1710874 ,\n",
       "       0.17108704, 0.17108668, 0.17108632, 0.17108596, 0.17108561,\n",
       "       0.17108525, 0.17108489, 0.17108454, 0.17108418, 0.17108383,\n",
       "       0.17108348, 0.17108312, 0.17108277, 0.17108242, 0.17108207,\n",
       "       0.17108172, 0.17108137, 0.17108102, 0.17108067, 0.17108032,\n",
       "       0.17107998, 0.17107963, 0.17107929, 0.17107894, 0.1710786 ,\n",
       "       0.17107825, 0.17107791, 0.17107757, 0.17107723, 0.17107688,\n",
       "       0.17107654, 0.1710762 , 0.17107587, 0.17107553, 0.17107519,\n",
       "       0.17107485, 0.17107451, 0.17107418, 0.17107384, 0.17107351,\n",
       "       0.17107317, 0.17107284, 0.17107251, 0.17107218, 0.17107184,\n",
       "       0.17107151, 0.17107118, 0.17107085, 0.17107052, 0.17107019,\n",
       "       0.17106986, 0.17106954, 0.17106921, 0.17106888, 0.17106856,\n",
       "       0.17106823, 0.17106791, 0.17106758, 0.17106726, 0.17106693,\n",
       "       0.17106661, 0.17106629, 0.17106597, 0.17106565, 0.17106533,\n",
       "       0.17106501, 0.17106469, 0.17106437, 0.17106405, 0.17106373,\n",
       "       0.17106342, 0.1710631 , 0.17106278, 0.17106247, 0.17106215,\n",
       "       0.17106184, 0.17106152, 0.17106121, 0.1710609 , 0.17106059,\n",
       "       0.17106027, 0.17105996, 0.17105965, 0.17105934, 0.17105903,\n",
       "       0.17105872, 0.17105841, 0.17105811, 0.1710578 , 0.17105749,\n",
       "       0.17105719, 0.17105688, 0.17105657, 0.17105627, 0.17105596,\n",
       "       0.17105566, 0.17105536, 0.17105505, 0.17105475, 0.17105445,\n",
       "       0.17105415, 0.17105385, 0.17105355, 0.17105325, 0.17105295,\n",
       "       0.17105265, 0.17105235, 0.17105205, 0.17105176, 0.17105146,\n",
       "       0.17105116, 0.17105087, 0.17105057, 0.17105028, 0.17104998,\n",
       "       0.17104969, 0.17104939, 0.1710491 , 0.17104881, 0.17104852,\n",
       "       0.17104823, 0.17104794, 0.17104764, 0.17104736, 0.17104707,\n",
       "       0.17104678, 0.17104649, 0.1710462 , 0.17104591, 0.17104563])"
      ]
     },
     "execution_count": 7,
     "metadata": {},
     "output_type": "execute_result"
    }
   ],
   "source": [
    "ind = 1\n",
    "start_itr = 1000\n",
    "itrm = 2000\n",
    "np.mean(error_rifle[ind, :,start_itr:itrm], axis = 0)\n"
   ]
  },
  {
   "cell_type": "code",
   "execution_count": 8,
   "id": "a8aba246",
   "metadata": {},
   "outputs": [
    {
     "data": {
      "text/plain": [
       "0.1015394972366317"
      ]
     },
     "execution_count": 8,
     "metadata": {},
     "output_type": "execute_result"
    }
   ],
   "source": [
    "np.mean(error_ST[0, :,272], axis = 0)"
   ]
  },
  {
   "cell_type": "code",
   "execution_count": 27,
   "id": "60965d73",
   "metadata": {},
   "outputs": [],
   "source": [
    "import matplotlib.pyplot as plt\n",
    "import numpy as np\n",
    "def plotItr(error_dict,itr_max = 2000, colname = \" \",figname = False):\n",
    "    colors = ['r','b','g','c','k','m','y']\n",
    "    markers = ['s','o','v','^','+','x','>']\n",
    "    linestyles = ['-','-','-','-',':',':','-.']\n",
    "    i = 0\n",
    "    \n",
    "    fig = plt.figure()\n",
    "    for algo, error in error_dict.items():\n",
    "        c = colors[i]\n",
    "        mkr = markers[i]\n",
    "        ls = linestyles[i]\n",
    "        fmt = ls + c + mkr\n",
    "        step = 1\n",
    "        chosen_points = np.arange(0, itr_max, step)\n",
    "        markers_on = np.arange(0, itr_max//step, itr_max//step//5)\n",
    "        mkrstyle = {'linewidth': 2, 'markersize': 6, 'markeredgewidth': 2, \\\n",
    "                       'markeredgecolor': c, 'markerfacecolor': c}\n",
    "        \n",
    "        plt.plot(chosen_points, error[chosen_points], fmt, markevery=markers_on, **mkrstyle, label = algo)\n",
    "        i = i + 1\n",
    "    labelsize = 20\n",
    "    ticksize = 16\n",
    "    legendsize = 16\n",
    "#     plt.ylim(0,2.2)\n",
    "    plt.xticks(fontsize=ticksize)\n",
    "    plt.yticks(fontsize=ticksize)\n",
    "    plt.xlabel(r'Iteration',fontsize = labelsize)\n",
    "#     plt.ylabel(colname,fontsize = labelsize)\n",
    "    plt.gca().legend(fontsize=legendsize)\n",
    "    plt.tight_layout()\n",
    "    if figname:\n",
    "        # print('Fig saved!')\n",
    "        plt.savefig(figname+'.png',bbox_inches = 0)\n",
    "    plt.show()"
   ]
  },
  {
   "cell_type": "code",
   "execution_count": 29,
   "id": "3594b7f6",
   "metadata": {
    "scrolled": true
   },
   "outputs": [
    {
     "data": {
      "image/png": "[encoded data removed]",
      "text/plain": [
       "<Figure size 432x288 with 1 Axes>"
      ]
     },
     "metadata": {
      "needs_background": "light"
     },
     "output_type": "display_data"
    }
   ],
   "source": [
    "ind = 0\n",
    "start_itr = 0\n",
    "itrm = 1000\n",
    "# itrm = np.min(iter_max[np.nonzero(iter_max)])\n",
    "\n",
    "error_dict = {'Simulated tempering': np.mean(error_ST[ind, :,start_itr:itrm], axis = 0), \n",
    "              'MixedCCA-BIC1': np.mean(error_mixedcca[0,ind, :,start_itr:itrm], axis = 0),\n",
    "             'MixedCCA-BIC2': np.mean(error_mixedcca[1,ind, :,start_itr:itrm], axis = 0),\n",
    "             'Rifle': np.mean(error_rifle[ind, :,start_itr:itrm], axis = 0)}\n",
    "plotItr(error_dict, itrm - start_itr, r'squared $l_2$ error ($v_y$)', figname = 'errorx')"
   ]
  },
  {
   "cell_type": "code",
   "execution_count": 34,
   "id": "e2acc4ab",
   "metadata": {},
   "outputs": [
    {
     "data": {
      "image/png": "[encoded data removed]",
      "text/plain": [
       "<Figure size 432x288 with 1 Axes>"
      ]
     },
     "metadata": {
      "needs_background": "light"
     },
     "output_type": "display_data"
    }
   ],
   "source": [
    "ind = 3\n",
    "start_itr = 1\n",
    "itrm = 1000\n",
    "# itrm = np.min(iter_max[np.nonzero(iter_max)])\n",
    "\n",
    "error_dict = {'Simulated tempering': np.mean(error_ST[ind, :,start_itr:itrm], axis = 0), \n",
    "              'MixedCCA-BIC1': np.mean(error_mixedcca[0,ind, :,start_itr:itrm], axis = 0),\n",
    "             'MixedCCA-BIC2': np.mean(error_mixedcca[1,ind, :,start_itr:itrm], axis = 0),\n",
    "             'Rifle': np.mean(error_rifle[ind, :,start_itr:itrm], axis = 0)}\n",
    "plotItr(error_dict, itrm - start_itr, r'TNR ($v_y$)', figname = 'tpry')"
   ]
  },
  {
   "cell_type": "code",
   "execution_count": 36,
   "id": "1502fe26",
   "metadata": {},
   "outputs": [
    {
     "data": {
      "image/png": "[encoded data removed]",
      "text/plain": [
       "<Figure size 432x288 with 1 Axes>"
      ]
     },
     "metadata": {
      "needs_background": "light"
     },
     "output_type": "display_data"
    }
   ],
   "source": [
    "ind = 4\n",
    "start_itr = 1\n",
    "itrm = np.min(iter_max[np.nonzero(iter_max)])\n",
    "itrm = 1000\n",
    "error_dict = {'ST': np.mean(error_ST[ind, :,start_itr:itrm], axis = 0), \n",
    "              'MixedCCA-BIC1': np.mean(error_mixedcca[0,ind, :,start_itr:itrm], axis = 0),\n",
    "             'MixedCCA-BIC2': np.mean(error_mixedcca[1,ind, :,start_itr:itrm], axis = 0),\n",
    "             'Rifle': np.mean(error_rifle[ind, :,start_itr:itrm], axis = 0)}\n",
    "plotItr(error_dict, itrm - start_itr, figname = 'tnrx')"
   ]
  },
  {
   "cell_type": "code",
   "execution_count": 33,
   "id": "adbcd3ae",
   "metadata": {},
   "outputs": [
    {
     "data": {
      "image/png": "[encoded data removed]",
      "text/plain": [
       "<Figure size 432x288 with 1 Axes>"
      ]
     },
     "metadata": {
      "needs_background": "light"
     },
     "output_type": "display_data"
    }
   ],
   "source": [
    "## vx\n",
    "itrm = np.min(iter_max[np.nonzero(iter_max)])\n",
    "error_dict = {'ST': [np.mean(time_ST[:,:itrm], axis = 0), np.mean(error_ST[0, :,:itrm], axis = 0)],\n",
    "             'MixedCCA-BIC1': [np.mean(time_mixedcca[0,:,:itrm], axis = 0), np.mean(error_mixedcca[0, 0, :,:itrm], axis = 0)],\n",
    "             'Rifle': [np.mean(time_rifle[:,:itrm], axis = 0), np.mean(error_rifle[0, :,:itrm], axis = 0)]}\n",
    "plotTime(error_dict, itrm, figname = False)"
   ]
  },
  {
   "cell_type": "code",
   "execution_count": 41,
   "id": "3eab9435",
   "metadata": {
    "scrolled": true
   },
   "outputs": [
    {
     "data": {
      "text/plain": [
       "0.17509006529999993"
      ]
     },
     "execution_count": 41,
     "metadata": {},
     "output_type": "execute_result"
    }
   ],
   "source": [
    "np.mean(time_ST[:,:itrm], axis = 0)[-1] /itrm"
   ]
  },
  {
   "cell_type": "code",
   "execution_count": 16,
   "id": "eaf114dc",
   "metadata": {},
   "outputs": [
    {
     "data": {
      "text/plain": [
       "array([ 3.65, 33.89])"
      ]
     },
     "execution_count": 16,
     "metadata": {},
     "output_type": "execute_result"
    }
   ],
   "source": [
    "np.mean(iter_mixedcca,  axis = 1)"
   ]
  },
  {
   "cell_type": "code",
   "execution_count": 8,
   "id": "d275d73e",
   "metadata": {},
   "outputs": [
    {
     "data": {
      "text/plain": [
       "32.98010737000001"
      ]
     },
     "execution_count": 8,
     "metadata": {},
     "output_type": "execute_result"
    }
   ],
   "source": [
    "np.mean(time_ST[:,:2000], axis = 0)[200]"
   ]
  },
  {
   "cell_type": "code",
   "execution_count": null,
   "id": "567811b8",
   "metadata": {},
   "outputs": [],
   "source": []
  },
  {
   "cell_type": "code",
   "execution_count": 19,
   "id": "5964aa1e",
   "metadata": {},
   "outputs": [
    {
     "data": {
      "text/plain": [
       "array([   0.        ,    3.92130008,    7.84260015,   11.76390023,\n",
       "         15.6852003 ,   19.60650038,   23.52780045,   27.44910053,\n",
       "         31.37040061,   35.29170068,   39.21300076,   43.13430083,\n",
       "         47.05560091,   50.97690098,   54.89820106,   58.81950114,\n",
       "         62.74080121,   66.66210129,   70.58340136,   74.50470144,\n",
       "         78.42600151,   82.34730159,   86.26860167,   90.18990174,\n",
       "         94.11120182,   98.03250189,  101.95380197,  105.87510205,\n",
       "        109.79640212,  113.7177022 ,  117.63900227,  121.56030235,\n",
       "        125.48160242,  129.4029025 ,  133.32420258,  137.24550265,\n",
       "        141.16680273,  145.0881028 ,  149.00940288,  152.93070295,\n",
       "        156.85200303,  160.77330311,  164.69460318,  168.61590326,\n",
       "        172.53720333,  176.45850341,  180.37980348,  184.30110356,\n",
       "        188.22240364,  192.14370371,  196.06500379,  199.98630386,\n",
       "        203.90760394,  207.82890401,  211.75020409,  215.67150417,\n",
       "        219.59280424,  223.51410432,  227.43540439,  231.35670447,\n",
       "        235.27800454,  239.19930462,  243.1206047 ,  247.04190477,\n",
       "        250.96320485,  254.88450492,  258.805805  ,  262.72710507,\n",
       "        266.64840515,  270.56970523,  274.4910053 ,  278.41230538,\n",
       "        282.33360545,  286.25490553,  290.1762056 ,  294.09750568,\n",
       "        298.01880576,  301.94010583,  305.86140591,  309.78270598,\n",
       "        313.70400606,  317.62530614,  321.54660621,  325.46790629,\n",
       "        329.38920636,  333.31050644,  337.23180651,  341.15310659,\n",
       "        345.07440667,  348.99570674,  352.91700682,  356.83830689,\n",
       "        360.75960697,  364.68090704,  368.60220712,  372.5235072 ,\n",
       "        376.44480727,  380.36610735,  384.28740742,  388.2087075 ,\n",
       "        392.13000757,  396.05130765,  399.97260773,  403.8939078 ,\n",
       "        407.81520788,  411.73650795,  415.65780803,  419.5791081 ,\n",
       "        423.50040818,  427.42170826,  431.34300833,  435.26430841,\n",
       "        439.18560848,  443.10690856,  447.02820863,  450.94950871,\n",
       "        454.87080879,  458.79210886,  462.71340894,  466.63470901,\n",
       "        470.55600909,  474.47730916,  478.39860924,  482.31990932,\n",
       "        486.24120939,  490.16250947,  494.08380954,  498.00510962,\n",
       "        501.92640969,  505.84770977,  509.76900985,  513.69030992,\n",
       "        517.61161   ,  521.53291007,  525.45421015,  529.37551023,\n",
       "        533.2968103 ,  537.21811038,  541.13941045,  545.06071053,\n",
       "        548.9820106 ,  552.90331068,  556.82461076,  560.74591083,\n",
       "        564.66721091,  568.58851098,  572.50981106,  576.43111113,\n",
       "        580.35241121,  584.27371129,  588.19501136,  592.11631144,\n",
       "        596.03761151,  599.95891159,  603.88021166,  607.80151174,\n",
       "        611.72281182,  615.64411189,  619.56541197,  623.48671204,\n",
       "        627.40801212,  631.32931219,  635.25061227,  639.17191235,\n",
       "        643.09321242,  647.0145125 ,  650.93581257,  654.85711265,\n",
       "        658.77841272,  662.6997128 ,  666.62101288,  670.54231295,\n",
       "        674.46361303,  678.3849131 ,  682.30621318,  686.22751325,\n",
       "        690.14881333,  694.07011341,  697.99141348,  701.91271356,\n",
       "        705.83401363,  709.75531371,  713.67661378,  717.59791386,\n",
       "        721.51921394,  725.44051401,  729.36181409,  733.28311416,\n",
       "        737.20441424,  741.12571432,  745.04701439,  748.96831447,\n",
       "        752.88961454,  756.81091462,  760.73221469,  764.65351477,\n",
       "        768.57481485,  772.49611492,  776.417415  ,  780.33871507,\n",
       "        784.26001515,  788.18131522,  792.1026153 ,  796.02391538,\n",
       "        799.94521545,  803.86651553,  807.7878156 ,  811.70911568,\n",
       "        815.63041575,  819.55171583,  823.47301591,  827.39431598,\n",
       "        831.31561606,  835.23691613,  839.15821621,  843.07951628,\n",
       "        847.00081636,  850.92211644,  854.84341651,  858.76471659,\n",
       "        862.68601666,  866.60731674,  870.52861681,  874.44991689,\n",
       "        878.37121697,  882.29251704,  886.21381712,  890.13511719,\n",
       "        894.05641727,  897.97771734,  901.89901742,  905.8203175 ,\n",
       "        909.74161757,  913.66291765,  917.58421772,  921.5055178 ,\n",
       "        925.42681787,  929.34811795,  933.26941803,  937.1907181 ,\n",
       "        941.11201818,  945.03331825,  948.95461833,  952.87591841,\n",
       "        956.79721848,  960.71851856,  964.63981863,  968.56111871,\n",
       "        972.48241878,  976.40371886,  980.32501894,  984.24631901,\n",
       "        988.16761909,  992.08891916,  996.01021924,  999.93151931,\n",
       "       1003.85281939, 1007.77411947, 1011.69541954, 1015.61671962,\n",
       "       1019.53801969, 1023.45931977, 1027.38061984, 1031.30191992,\n",
       "       1035.22322   , 1039.14452007, 1043.06582015, 1046.98712022,\n",
       "       1050.9084203 , 1054.82972037, 1058.75102045, 1062.67232053,\n",
       "       1066.5936206 , 1070.51492068, 1074.43622075, 1078.35752083,\n",
       "       1082.2788209 , 1086.20012098, 1090.12142106, 1094.04272113,\n",
       "       1097.96402121, 1101.88532128, 1105.80662136, 1109.72792143,\n",
       "       1113.64922151, 1117.57052159, 1121.49182166, 1125.41312174,\n",
       "       1129.33442181, 1133.25572189, 1137.17702196, 1141.09832204,\n",
       "       1145.01962212, 1148.94092219, 1152.86222227, 1156.78352234,\n",
       "       1160.70482242, 1164.6261225 , 1168.54742257, 1172.46872265,\n",
       "       1176.39002272, 1180.3113228 , 1184.23262287, 1188.15392295,\n",
       "       1192.07522303, 1195.9965231 , 1199.91782318, 1203.83912325,\n",
       "       1207.76042333, 1211.6817234 , 1215.60302348, 1219.52432356,\n",
       "       1223.44562363, 1227.36692371, 1231.28822378, 1235.20952386,\n",
       "       1239.13082393, 1243.05212401, 1246.97342409, 1250.89472416,\n",
       "       1254.81602424, 1258.73732431, 1262.65862439, 1266.57992446,\n",
       "       1270.50122454, 1274.42252462, 1278.34382469, 1282.26512477,\n",
       "       1286.18642484, 1290.10772492, 1294.02902499, 1297.95032507,\n",
       "       1301.87162515, 1305.79292522, 1309.7142253 , 1313.63552537,\n",
       "       1317.55682545, 1321.47812552, 1325.3994256 , 1329.32072568,\n",
       "       1333.24202575, 1337.16332583, 1341.0846259 , 1345.00592598,\n",
       "       1348.92722605, 1352.84852613, 1356.76982621, 1360.69112628,\n",
       "       1364.61242636, 1368.53372643, 1372.45502651, 1376.37632659,\n",
       "       1380.29762666, 1384.21892674, 1388.14022681, 1392.06152689,\n",
       "       1395.98282696, 1399.90412704, 1403.82542712, 1407.74672719,\n",
       "       1411.66802727, 1415.58932734, 1419.51062742, 1423.43192749,\n",
       "       1427.35322757, 1431.27452765, 1435.19582772, 1439.1171278 ,\n",
       "       1443.03842787, 1446.95972795, 1450.88102802, 1454.8023281 ,\n",
       "       1458.72362818, 1462.64492825, 1466.56622833, 1470.4875284 ,\n",
       "       1474.40882848, 1478.33012855, 1482.25142863, 1486.17272871,\n",
       "       1490.09402878, 1494.01532886, 1497.93662893, 1501.85792901,\n",
       "       1505.77922908, 1509.70052916, 1513.62182924, 1517.54312931,\n",
       "       1521.46442939, 1525.38572946, 1529.30702954, 1533.22832961,\n",
       "       1537.14962969, 1541.07092977, 1544.99222984, 1548.91352992,\n",
       "       1552.83482999, 1556.75613007, 1560.67743014, 1564.59873022,\n",
       "       1568.5200303 , 1572.44133037, 1576.36263045, 1580.28393052,\n",
       "       1584.2052306 , 1588.12653068, 1592.04783075, 1595.96913083,\n",
       "       1599.8904309 , 1603.81173098, 1607.73303105, 1611.65433113,\n",
       "       1615.57563121, 1619.49693128, 1623.41823136, 1627.33953143,\n",
       "       1631.26083151, 1635.18213158, 1639.10343166, 1643.02473174,\n",
       "       1646.94603181, 1650.86733189, 1654.78863196, 1658.70993204,\n",
       "       1662.63123211, 1666.55253219, 1670.47383227, 1674.39513234,\n",
       "       1678.31643242, 1682.23773249, 1686.15903257, 1690.08033264,\n",
       "       1694.00163272, 1697.9229328 , 1701.84423287, 1705.76553295,\n",
       "       1709.68683302, 1713.6081331 , 1717.52943317, 1721.45073325,\n",
       "       1725.37203333, 1729.2933334 , 1733.21463348, 1737.13593355,\n",
       "       1741.05723363, 1744.9785337 , 1748.89983378, 1752.82113386,\n",
       "       1756.74243393, 1760.66373401, 1764.58503408, 1768.50633416,\n",
       "       1772.42763423, 1776.34893431, 1780.27023439, 1784.19153446,\n",
       "       1788.11283454, 1792.03413461, 1795.95543469, 1799.87673477,\n",
       "       1803.79803484, 1807.71933492, 1811.64063499, 1815.56193507,\n",
       "       1819.48323514, 1823.40453522, 1827.3258353 , 1831.24713537,\n",
       "       1835.16843545, 1839.08973552, 1843.0110356 , 1846.93233567,\n",
       "       1850.85363575, 1854.77493583, 1858.6962359 , 1862.61753598,\n",
       "       1866.53883605, 1870.46013613, 1874.3814362 , 1878.30273628,\n",
       "       1882.22403636, 1886.14533643, 1890.06663651, 1893.98793658,\n",
       "       1897.90923666, 1901.83053673, 1905.75183681, 1909.67313689,\n",
       "       1913.59443696, 1917.51573704, 1921.43703711, 1925.35833719,\n",
       "       1929.27963726, 1933.20093734, 1937.12223742, 1941.04353749,\n",
       "       1944.96483757, 1948.88613764, 1952.80743772, 1956.72873779,\n",
       "       1960.65003787, 1964.57133795, 1968.49263802, 1972.4139381 ,\n",
       "       1976.33523817, 1980.25653825, 1984.17783832, 1988.0991384 ,\n",
       "       1992.02043848, 1995.94173855, 1999.86303863, 2003.7843387 ,\n",
       "       2007.70563878, 2011.62693886, 2015.54823893, 2019.46953901,\n",
       "       2023.39083908, 2027.31213916, 2031.23343923, 2035.15473931,\n",
       "       2039.07603939, 2042.99733946, 2046.91863954, 2050.83993961,\n",
       "       2054.76123969, 2058.68253976, 2062.60383984, 2066.52513992,\n",
       "       2070.44643999, 2074.36774007, 2078.28904014, 2082.21034022,\n",
       "       2086.13164029, 2090.05294037, 2093.97424045, 2097.89554052,\n",
       "       2101.8168406 , 2105.73814067, 2109.65944075, 2113.58074082,\n",
       "       2117.5020409 , 2121.42334098, 2125.34464105, 2129.26594113,\n",
       "       2133.1872412 , 2137.10854128, 2141.02984135, 2144.95114143,\n",
       "       2148.87244151, 2152.79374158, 2156.71504166, 2160.63634173,\n",
       "       2164.55764181, 2168.47894188, 2172.40024196, 2176.32154204,\n",
       "       2180.24284211, 2184.16414219, 2188.08544226, 2192.00674234,\n",
       "       2195.92804241, 2199.84934249, 2203.77064257, 2207.69194264,\n",
       "       2211.61324272, 2215.53454279, 2219.45584287, 2223.37714295,\n",
       "       2227.29844302, 2231.2197431 , 2235.14104317, 2239.06234325,\n",
       "       2242.98364332, 2246.9049434 , 2250.82624348, 2254.74754355,\n",
       "       2258.66884363, 2262.5901437 , 2266.51144378, 2270.43274385,\n",
       "       2274.35404393, 2278.27534401, 2282.19664408, 2286.11794416,\n",
       "       2290.03924423, 2293.96054431, 2297.88184438, 2301.80314446,\n",
       "       2305.72444454, 2309.64574461, 2313.56704469, 2317.48834476,\n",
       "       2321.40964484, 2325.33094491, 2329.25224499, 2333.17354507,\n",
       "       2337.09484514, 2341.01614522, 2344.93744529, 2348.85874537,\n",
       "       2352.78004544, 2356.70134552, 2360.6226456 , 2364.54394567,\n",
       "       2368.46524575, 2372.38654582, 2376.3078459 , 2380.22914597,\n",
       "       2384.15044605, 2388.07174613, 2391.9930462 , 2395.91434628,\n",
       "       2399.83564635, 2403.75694643, 2407.67824651, 2411.59954658,\n",
       "       2415.52084666, 2419.44214673, 2423.36344681, 2427.28474688,\n",
       "       2431.20604696, 2435.12734704, 2439.04864711, 2442.96994719,\n",
       "       2446.89124726, 2450.81254734, 2454.73384741, 2458.65514749,\n",
       "       2462.57644757, 2466.49774764, 2470.41904772, 2474.34034779,\n",
       "       2478.26164787, 2482.18294794, 2486.10424802, 2490.0255481 ,\n",
       "       2493.94684817, 2497.86814825, 2501.78944832, 2505.7107484 ,\n",
       "       2509.63204847, 2513.55334855, 2517.47464863, 2521.3959487 ,\n",
       "       2525.31724878, 2529.23854885, 2533.15984893, 2537.081149  ,\n",
       "       2541.00244908, 2544.92374916, 2548.84504923, 2552.76634931,\n",
       "       2556.68764938, 2560.60894946, 2564.53024953, 2568.45154961,\n",
       "       2572.37284969, 2576.29414976, 2580.21544984, 2584.13674991,\n",
       "       2588.05804999, 2591.97935006, 2595.90065014, 2599.82195022,\n",
       "       2603.74325029, 2607.66455037, 2611.58585044, 2615.50715052,\n",
       "       2619.4284506 , 2623.34975067, 2627.27105075, 2631.19235082,\n",
       "       2635.1136509 , 2639.03495097, 2642.95625105, 2646.87755113,\n",
       "       2650.7988512 , 2654.72015128, 2658.64145135, 2662.56275143,\n",
       "       2666.4840515 , 2670.40535158, 2674.32665166, 2678.24795173,\n",
       "       2682.16925181, 2686.09055188, 2690.01185196, 2693.93315203,\n",
       "       2697.85445211, 2701.77575219, 2705.69705226, 2709.61835234,\n",
       "       2713.53965241, 2717.46095249, 2721.38225256, 2725.30355264,\n",
       "       2729.22485272, 2733.14615279, 2737.06745287, 2740.98875294,\n",
       "       2744.91005302, 2748.83135309, 2752.75265317, 2756.67395325,\n",
       "       2760.59525332, 2764.5165534 , 2768.43785347, 2772.35915355,\n",
       "       2776.28045362, 2780.2017537 , 2784.12305378, 2788.04435385,\n",
       "       2791.96565393, 2795.886954  , 2799.80825408, 2803.72955415,\n",
       "       2807.65085423, 2811.57215431, 2815.49345438, 2819.41475446,\n",
       "       2823.33605453, 2827.25735461, 2831.17865469, 2835.09995476,\n",
       "       2839.02125484, 2842.94255491, 2846.86385499, 2850.78515506,\n",
       "       2854.70645514, 2858.62775522, 2862.54905529, 2866.47035537,\n",
       "       2870.39165544, 2874.31295552, 2878.23425559, 2882.15555567,\n",
       "       2886.07685575, 2889.99815582, 2893.9194559 , 2897.84075597,\n",
       "       2901.76205605, 2905.68335612, 2909.6046562 , 2913.52595628,\n",
       "       2917.44725635, 2921.36855643, 2925.2898565 , 2929.21115658,\n",
       "       2933.13245665, 2937.05375673, 2940.97505681, 2944.89635688,\n",
       "       2948.81765696, 2952.73895703, 2956.66025711, 2960.58155718,\n",
       "       2964.50285726, 2968.42415734, 2972.34545741, 2976.26675749,\n",
       "       2980.18805756, 2984.10935764, 2988.03065771, 2991.95195779,\n",
       "       2995.87325787, 2999.79455794, 3003.71585802, 3007.63715809,\n",
       "       3011.55845817, 3015.47975824, 3019.40105832, 3023.3223584 ,\n",
       "       3027.24365847, 3031.16495855, 3035.08625862, 3039.0075587 ,\n",
       "       3042.92885878, 3046.85015885, 3050.77145893, 3054.692759  ,\n",
       "       3058.61405908, 3062.53535915, 3066.45665923, 3070.37795931,\n",
       "       3074.29925938, 3078.22055946, 3082.14185953, 3086.06315961,\n",
       "       3089.98445968, 3093.90575976, 3097.82705984, 3101.74835991,\n",
       "       3105.66965999, 3109.59096006, 3113.51226014, 3117.43356021,\n",
       "       3121.35486029, 3125.27616037, 3129.19746044, 3133.11876052,\n",
       "       3137.04006059, 3140.96136067, 3144.88266074, 3148.80396082,\n",
       "       3152.7252609 , 3156.64656097, 3160.56786105, 3164.48916112,\n",
       "       3168.4104612 , 3172.33176127, 3176.25306135, 3180.17436143,\n",
       "       3184.0956615 , 3188.01696158, 3191.93826165, 3195.85956173,\n",
       "       3199.7808618 , 3203.70216188, 3207.62346196, 3211.54476203,\n",
       "       3215.46606211, 3219.38736218, 3223.30866226, 3227.22996233,\n",
       "       3231.15126241, 3235.07256249, 3238.99386256, 3242.91516264,\n",
       "       3246.83646271, 3250.75776279, 3254.67906287, 3258.60036294,\n",
       "       3262.52166302, 3266.44296309, 3270.36426317, 3274.28556324,\n",
       "       3278.20686332, 3282.1281634 , 3286.04946347, 3289.97076355,\n",
       "       3293.89206362, 3297.8133637 , 3301.73466377, 3305.65596385,\n",
       "       3309.57726393, 3313.498564  , 3317.41986408, 3321.34116415,\n",
       "       3325.26246423, 3329.1837643 , 3333.10506438, 3337.02636446,\n",
       "       3340.94766453, 3344.86896461, 3348.79026468, 3352.71156476,\n",
       "       3356.63286483, 3360.55416491, 3364.47546499, 3368.39676506,\n",
       "       3372.31806514, 3376.23936521, 3380.16066529, 3384.08196536,\n",
       "       3388.00326544, 3391.92456552, 3395.84586559, 3399.76716567,\n",
       "       3403.68846574, 3407.60976582, 3411.53106589, 3415.45236597,\n",
       "       3419.37366605, 3423.29496612, 3427.2162662 , 3431.13756627,\n",
       "       3435.05886635, 3438.98016642, 3442.9014665 , 3446.82276658,\n",
       "       3450.74406665, 3454.66536673, 3458.5866668 , 3462.50796688,\n",
       "       3466.42926696, 3470.35056703, 3474.27186711, 3478.19316718,\n",
       "       3482.11446726, 3486.03576733, 3489.95706741, 3493.87836749,\n",
       "       3497.79966756, 3501.72096764, 3505.64226771, 3509.56356779,\n",
       "       3513.48486786, 3517.40616794, 3521.32746802, 3525.24876809,\n",
       "       3529.17006817, 3533.09136824, 3537.01266832, 3540.93396839,\n",
       "       3544.85526847, 3548.77656855, 3552.69786862, 3556.6191687 ,\n",
       "       3560.54046877, 3564.46176885, 3568.38306892, 3572.304369  ,\n",
       "       3576.22566908, 3580.14696915, 3584.06826923, 3587.9895693 ,\n",
       "       3591.91086938, 3595.83216945, 3599.75346953, 3603.67476961,\n",
       "       3607.59606968, 3611.51736976, 3615.43866983, 3619.35996991,\n",
       "       3623.28126998, 3627.20257006, 3631.12387014, 3635.04517021,\n",
       "       3638.96647029, 3642.88777036, 3646.80907044, 3650.73037051,\n",
       "       3654.65167059, 3658.57297067, 3662.49427074, 3666.41557082,\n",
       "       3670.33687089, 3674.25817097, 3678.17947105, 3682.10077112,\n",
       "       3686.0220712 , 3689.94337127, 3693.86467135, 3697.78597142,\n",
       "       3701.7072715 , 3705.62857158, 3709.54987165, 3713.47117173,\n",
       "       3717.3924718 , 3721.31377188, 3725.23507195, 3729.15637203,\n",
       "       3733.07767211, 3736.99897218, 3740.92027226, 3744.84157233,\n",
       "       3748.76287241, 3752.68417248, 3756.60547256, 3760.52677264,\n",
       "       3764.44807271, 3768.36937279, 3772.29067286, 3776.21197294,\n",
       "       3780.13327301, 3784.05457309, 3787.97587317, 3791.89717324,\n",
       "       3795.81847332, 3799.73977339, 3803.66107347, 3807.58237354,\n",
       "       3811.50367362, 3815.4249737 , 3819.34627377, 3823.26757385,\n",
       "       3827.18887392, 3831.110174  , 3835.03147407, 3838.95277415,\n",
       "       3842.87407423, 3846.7953743 , 3850.71667438, 3854.63797445,\n",
       "       3858.55927453, 3862.4805746 , 3866.40187468, 3870.32317476,\n",
       "       3874.24447483, 3878.16577491, 3882.08707498, 3886.00837506,\n",
       "       3889.92967514, 3893.85097521, 3897.77227529, 3901.69357536,\n",
       "       3905.61487544, 3909.53617551, 3913.45747559, 3917.37877567])"
      ]
     },
     "execution_count": 19,
     "metadata": {},
     "output_type": "execute_result"
    }
   ],
   "source": [
    "np.mean(time_mixedcca[0,:,:1000], axis = 0)"
   ]
  },
  {
   "cell_type": "code",
   "execution_count": 48,
   "id": "ff59a432",
   "metadata": {},
   "outputs": [
    {
     "data": {
      "text/plain": [
       "1.5301240081824956"
      ]
     },
     "execution_count": 48,
     "metadata": {},
     "output_type": "execute_result"
    }
   ],
   "source": [
    "np.mean(time_mixedcca[1,:,:itrm], axis = 0)[1]"
   ]
  },
  {
   "cell_type": "code",
   "execution_count": 20,
   "id": "9916f10c",
   "metadata": {},
   "outputs": [
    {
     "data": {
      "text/plain": [
       "1.3268444560635757"
      ]
     },
     "execution_count": 20,
     "metadata": {},
     "output_type": "execute_result"
    }
   ],
   "source": [
    "np.mean(time_rifle[:,:400], axis = 0)[-1]"
   ]
  },
  {
   "cell_type": "code",
   "execution_count": 45,
   "id": "39c77234",
   "metadata": {},
   "outputs": [],
   "source": [
    "def plotTime(error_dict,itr_max = 2000, figname = False):\n",
    "    colors = ['r','b','g','c','k','m','y']\n",
    "    markers = ['s','o','v','^','+','x','>']\n",
    "    linestyles = ['-','--','-','-',':',':','-.']\n",
    "    i = 0\n",
    "    \n",
    "    fig = plt.figure()\n",
    "    for algo, error in error_dict.items():\n",
    "        c = colors[i]\n",
    "        mkr = markers[i]\n",
    "        ls = linestyles[i]\n",
    "        fmt = ls + c + mkr\n",
    "        step = 1\n",
    "        chosen_points = np.arange(0, itr_max, step)\n",
    "        markers_on = np.arange(0, itr_max//step, itr_max//step//5)\n",
    "        mkrstyle = {'linewidth': 1, 'markersize': 3, 'markeredgewidth': 2, \\\n",
    "                       'markeredgecolor': c, 'markerfacecolor': 'None'}\n",
    "        \n",
    "        plt.plot(error[0][chosen_points], error[1][chosen_points], fmt, markevery=markers_on, **mkrstyle, label = algo)\n",
    "        i = i + 1\n",
    "    labelsize = 20\n",
    "    ticksize = 16\n",
    "    legendsize = 12\n",
    "    plt.ylim(0,2.2)\n",
    "    plt.xlim(0,50)\n",
    "    plt.xticks(fontsize=ticksize)\n",
    "    plt.yticks(fontsize=ticksize)\n",
    "    plt.xlabel(r'Computation time/s',fontsize = labelsize)\n",
    "    plt.ylabel(r'Squared l2 error',fontsize = labelsize)\n",
    "    plt.gca().legend(fontsize=legendsize)\n",
    "    plt.tight_layout()\n",
    "    if figname:\n",
    "        # print('Fig saved!')\n",
    "        plt.savefig(figname+'.png',bbox_inches = 0)\n",
    "    plt.show()"
   ]
  },
  {
   "cell_type": "code",
   "execution_count": null,
   "id": "32dc1287",
   "metadata": {},
   "outputs": [],
   "source": []
  },
  {
   "cell_type": "code",
   "execution_count": null,
   "id": "3bb46620",
   "metadata": {},
   "outputs": [],
   "source": []
  }
 ],
 "metadata": {
  "kernelspec": {
   "display_name": "Python 3",
   "language": "python",
   "name": "python3"
  },
  "language_info": {
   "codemirror_mode": {
    "name": "ipython",
    "version": 3
   },
   "file_extension": ".py",
   "mimetype": "text/x-python",
   "name": "python",
   "nbconvert_exporter": "python",
   "pygments_lexer": "ipython3",
   "version": "3.8.10"
  }
 },
 "nbformat": 4,
 "nbformat_minor": 5
}
