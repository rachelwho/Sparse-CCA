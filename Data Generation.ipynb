{
 "cells": [
  {
   "cell_type": "code",
   "execution_count": 1,
   "id": "1bd2b4a2",
   "metadata": {},
   "outputs": [],
   "source": [
    "import sys\n",
    "sys.path.append('..')\n",
    "from SCCA_new import *\n",
    "import os\n",
    "import pickle\n",
    "import pandas as pd"
   ]
  },
  {
   "cell_type": "code",
   "execution_count": 15,
   "id": "33471d4f",
   "metadata": {},
   "outputs": [],
   "source": [
    "## Set dimension of parameters and params of main function\n",
    "n = 200\n",
    "d = int(200)\n",
    "s = 5\n",
    "lam = 0.9\n",
    "\n",
    "## generate Sigma_x\n",
    "p1 = d//2\n",
    "p2 = d - p1\n",
    "gamma = 0.8\n",
    "SigX = np.zeros(shape = (p1, p1))\n",
    "SigY = np.zeros(shape = (p2, p2))\n",
    "\n",
    "vx = np.zeros(shape= (p1, 1))\n",
    "vy = np.zeros(shape= (p2, 1))\n",
    "def block(p):\n",
    "    mat = np.empty(shape = (p, p))\n",
    "    for i in range(p):\n",
    "        for j in range(p):\n",
    "            mat[i, j] = gamma ** abs(i - j)\n",
    "    return mat\n",
    "\n",
    "size_block1 = [p1//10, p1//5, p1//3, p1//5, 0]\n",
    "cum_sum_size1 = np.append([0],np.cumsum(size_block1))\n",
    "size_block1[4] = p1 - cum_sum_size1[4]\n",
    "cum_sum_size1[5] = p1\n",
    "size_block2 = [p2//3, p2//5, p2//4, p2//8, 0]\n",
    "cum_sum_size2 = np.append([0],np.cumsum(size_block2))\n",
    "size_block2[4] = p2 - cum_sum_size2[4]\n",
    "cum_sum_size2[5] = p2\n",
    "for i in range(5):\n",
    "    SigX[cum_sum_size1[i]: cum_sum_size1[i+1] ,cum_sum_size1[i]: cum_sum_size1[i+1]  ] = block(size_block1[i])\n",
    "    SigY[cum_sum_size2[i]: cum_sum_size2[i+1] ,cum_sum_size2[i]: cum_sum_size2[i+1] ] = block(size_block2[i])\n",
    "\n",
    "for i in range(0,5*s,5):\n",
    "    vx[i] = 1/np.sqrt(10)\n",
    "    vy[i] = 1/np.sqrt(10)\n",
    "\n",
    "vx = vx / np.sqrt(vx.T.dot(SigX).dot(vx))\n",
    "vy = vy / np.sqrt(vy.T.dot(SigY).dot(vy))\n",
    "\n",
    "SigXY = lam * SigX.dot(vx).dot(vy.T).dot(SigY)\n",
    "Sigma = np.concatenate((np.concatenate((SigX, SigXY), axis=1),\n",
    "                        np.concatenate((SigXY.T, SigY), axis=1)), axis = 0)\n",
    "\n",
    "A = np.vstack((np.hstack((np.zeros(shape = (p1, p1)), SigXY))\n",
    "                    ,np.hstack((SigXY.T, np.zeros(shape = (p2, p2))))))\n",
    "\n",
    "B = np.vstack((np.hstack((SigX, np.zeros(shape = (p1, p2))))\n",
    "                    ,np.hstack((np.zeros(shape = (p2, p1)), SigY)))) / (n*2)"
   ]
  },
  {
   "cell_type": "code",
   "execution_count": 16,
   "id": "d937ff81",
   "metadata": {},
   "outputs": [
    {
     "data": {
      "text/plain": [
       "[10, 20, 33, 20, 17]"
      ]
     },
     "execution_count": 16,
     "metadata": {},
     "output_type": "execute_result"
    }
   ],
   "source": [
    "size_block1"
   ]
  },
  {
   "cell_type": "code",
   "execution_count": 17,
   "id": "d8431bb1",
   "metadata": {},
   "outputs": [
    {
     "data": {
      "text/plain": [
       "[33, 20, 25, 12, 10]"
      ]
     },
     "execution_count": 17,
     "metadata": {},
     "output_type": "execute_result"
    }
   ],
   "source": [
    "size_block2"
   ]
  },
  {
   "cell_type": "code",
   "execution_count": 18,
   "id": "67c86abf",
   "metadata": {},
   "outputs": [
    {
     "data": {
      "text/plain": [
       "[10, 20, 33, 20, 17]"
      ]
     },
     "execution_count": 18,
     "metadata": {},
     "output_type": "execute_result"
    }
   ],
   "source": [
    "size_block1"
   ]
  },
  {
   "cell_type": "code",
   "execution_count": 19,
   "id": "0b40e539",
   "metadata": {},
   "outputs": [
    {
     "data": {
      "text/plain": [
       "[33, 20, 25, 12, 10]"
      ]
     },
     "execution_count": 19,
     "metadata": {},
     "output_type": "execute_result"
    }
   ],
   "source": [
    "size_block2"
   ]
  },
  {
   "cell_type": "code",
   "execution_count": 21,
   "id": "7ce4058d",
   "metadata": {
    "scrolled": true
   },
   "outputs": [],
   "source": [
    "# Generate test dataset\n",
    "folder = '%i-%i_%i_%.1f_%.1f/' %(p1,p2, n,gamma, lam)\n",
    "isExist = os.path.exists('data/' + folder)\n",
    "\n",
    "if not isExist:\n",
    "  \n",
    "  # Create a new directory because it does not exist \n",
    "    os.makedirs('data/' + folder)\n",
    "    print(folder)\n",
    "    print(\"The new directory is created!\")\n",
    "\n",
    "for nrun in range(100):\n",
    "    Z =  stats.multivariate_normal.rvs(np.zeros(d), Sigma, n)\n",
    "    X = Z[:, 0:p1]\n",
    "    Y = Z[:,p1:]\n",
    "    # center columns of X\n",
    "\n",
    "    Sighat_X = (X-np.mean(X)).T.dot(X-np.mean(X))\n",
    "    Sighat_Y = (Y-np.mean(Y)).T.dot(Y - np.mean(Y))\n",
    "    Sighat_XY = (X-np.mean(X)).T.dot(Y - np.mean(Y))\n",
    "\n",
    "    Ahat = np.vstack((np.hstack((np.zeros(shape = (p1, p1)), Sighat_XY))\n",
    "                        ,np.hstack((Sighat_XY.T, np.zeros(shape = (p2, p2)))))) /n\n",
    "\n",
    "    Bhat = np.vstack((np.hstack((Sighat_X, np.zeros(shape = (p1, p2))))\n",
    "                        ,np.hstack((np.zeros(shape = (p2, p1)), Sighat_Y)))) /n\n",
    "    init =  np.random.normal(size = (d))\n",
    "    np.savetxt('data/'+ folder+'data%i.csv' %nrun, Z, delimiter = \",\")\n",
    "    np.savetxt('data/'+ folder+'Ahat%i.csv' %nrun, Ahat, delimiter = \",\")\n",
    "    np.savetxt('data/'+ folder+'Bhat%i.csv' %nrun, Bhat, delimiter = \",\")\n",
    "    np.savetxt('data/'+ folder+'init%i.csv' %nrun, init, delimiter = \",\")\n",
    "\n",
    "np.savetxt('data/'+ folder+'SigX.csv', SigX, delimiter = \",\")\n",
    "np.savetxt('data/'+ folder+'SigY.csv', SigY, delimiter = \",\")\n",
    "np.savetxt('data/'+ folder+'vy.csv', vy, delimiter = \",\")\n",
    "np.savetxt('data/'+ folder+'vx.csv', vx, delimiter = \",\")"
   ]
  },
  {
   "cell_type": "code",
   "execution_count": null,
   "id": "90e66177",
   "metadata": {},
   "outputs": [],
   "source": []
  },
  {
   "cell_type": "code",
   "execution_count": null,
   "id": "22f46136",
   "metadata": {},
   "outputs": [],
   "source": []
  }
 ],
 "metadata": {
  "kernelspec": {
   "display_name": "Python 3",
   "language": "python",
   "name": "python3"
  },
  "language_info": {
   "codemirror_mode": {
    "name": "ipython",
    "version": 3
   },
   "file_extension": ".py",
   "mimetype": "text/x-python",
   "name": "python",
   "nbconvert_exporter": "python",
   "pygments_lexer": "ipython3",
   "version": "3.8.10"
  }
 },
 "nbformat": 4,
 "nbformat_minor": 5
}
