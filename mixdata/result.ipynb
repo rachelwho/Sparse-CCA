{
 "cells": [
  {
   "cell_type": "code",
   "execution_count": 1,
   "id": "79f08c82",
   "metadata": {},
   "outputs": [],
   "source": [
    "import pandas as pd\n",
    "import pickle\n",
    "import sys\n",
    "sys.path.append('..')\n",
    "import numpy as np\n",
    "import os\n",
    "import matplotlib.pyplot as plt"
   ]
  },
  {
   "cell_type": "code",
   "execution_count": 2,
   "id": "bef0e8dc",
   "metadata": {},
   "outputs": [],
   "source": [
    "folder = 'result/100-100_180_0.7_0.8/'\n",
    "res_folder = folder + 'NormInitm_ST_1.0_0.5_10.0_0.100000/'"
   ]
  },
  {
   "cell_type": "code",
   "execution_count": 3,
   "id": "dd5ca059",
   "metadata": {},
   "outputs": [
    {
     "name": "stdout",
     "output_type": "stream",
     "text": [
      "-2 & 0.02 & 0.04 (0.15) & 0.03 (0.06) \\\\\n",
      "-1 & 0.16 & 0.03 (0.14) & 0.04 (0.10) \\\\\n",
      "0 & 0.50 & 0.06 (0.15) & 0.09 (0.14) \\\\\n"
     ]
    }
   ],
   "source": [
    "with open(res_folder + 'ST_rhat_error.pkl', 'rb') as f:  # Python 3: open(..., 'wb')\n",
    "    result1 =  pickle.load(f)\n",
    "i = 0\n",
    "for key in result1:\n",
    "    me = np.mean(result1[key], axis = 0)\n",
    "    sd = np.std(result1[key], axis = 0)\n",
    "    print(key, '& %.2f & %.2f (%.2f) & %.2f (%.2f) \\\\\\\\' %(me[0], me[1],sd[1], me[2], sd[2]))\n",
    "    i = i +1 "
   ]
  },
  {
   "cell_type": "code",
   "execution_count": 4,
   "id": "fc63b1d0",
   "metadata": {},
   "outputs": [],
   "source": [
    "with open(res_folder + 'SPD_ST_rhat_error.pkl', 'rb') as f:  # Python 3: open(..., 'wb')\n",
    "    result3 =  pickle.load(f)\n"
   ]
  },
  {
   "cell_type": "code",
   "execution_count": 6,
   "id": "2e96b2af",
   "metadata": {},
   "outputs": [],
   "source": [
    "res_mixedcca1 = pd.read_csv(folder +'FALSEmixedcca/error.csv', header=None, sep = ' ').values\n"
   ]
  },
  {
   "cell_type": "code",
   "execution_count": 16,
   "id": "dab12ac5",
   "metadata": {},
   "outputs": [],
   "source": [
    "df_all = None\n",
    "trunc = [-2,-1,0]\n",
    "for i in range(3):\n",
    "    df1 = pd.DataFrame(result1[trunc[i]][:, 1], columns = ['error'])\n",
    "    df1['Algorithm'] = 'Simulated tempering'\n",
    "    df2 = pd.DataFrame(res_mixedcca1[:, 14*i], columns = ['error'])\n",
    "    df2['Algorithm'] = 'MixedCCA-BIC1'\n",
    "    df3 = pd.DataFrame(res_mixedcca1[:, 14*i+6], columns = ['error'])\n",
    "    df3['Algorithm'] = 'MixedCCA-BIC2'\n",
    "    df_x = pd.concat([df1, df2, df3], sort=False)\n",
    "    df_x['direction'] = 'vx'\n",
    "    df1 = pd.DataFrame(result1[trunc[i]][:, 2], columns = ['error'])\n",
    "    df1['Algorithm'] = 'Simulated tempering'\n",
    "    df2 = pd.DataFrame(res_mixedcca1[:, 14*i+1], columns = ['error'])\n",
    "    df2['Algorithm'] = 'MixedCCA-BIC1'\n",
    "    df3 = pd.DataFrame(res_mixedcca1[:, 14*i+7], columns = ['error'])\n",
    "    df3['Algorithm'] = 'MixedCCA-BIC2'\n",
    "    df_y = pd.concat([df1, df2, df3], sort=False)\n",
    "    df_y['direction'] = 'vy'\n",
    "#     df11 = pd.DataFrame(np.array([result1[-2][:, 1], res_mixedcca1[:, 0], res_mixedcca1[:, 6]] ).T, columns = ['Simulated tempering', 'MixedCCA-BIC1', 'MixedCCA-BIC2'])\n",
    "#     df11['direction'] = 'vx'\n",
    "#     df12 = pd.DataFrame(np.array([result1[-2][:, 2], res_mixedcca1[:, 1], res_mixedcca1[:, 7]] ).T, columns = ['Simulated tempering', 'MixedCCA-BIC1', 'MixedCCA-BIC2'])\n",
    "#     df12['direction'] = 'vy'\n",
    "    df = pd.concat([df_x, df_y], sort=False)\n",
    "    df['C'] = trunc[i]\n",
    "    df_all = pd.concat([df_all, df], sort=False)"
   ]
  },
  {
   "cell_type": "code",
   "execution_count": 8,
   "id": "67fbae50-ffb9-47ac-941c-e7711b143bb3",
   "metadata": {},
   "outputs": [],
   "source": [
    "index = []"
   ]
  },
  {
   "cell_type": "code",
   "execution_count": 9,
   "id": "5edcb62c",
   "metadata": {},
   "outputs": [
    {
     "data": {
      "image/png": "[encoded data removed]",
      "text/plain": [
       "<Figure size 432x288 with 1 Axes>"
      ]
     },
     "metadata": {},
     "output_type": "display_data"
    }
   ],
   "source": [
    "import seaborn as sns\n",
    "sns.set_theme(style=\"ticks\", palette=\"pastel\")\n",
    "\n",
    "# Draw a nested boxplot to show bills by day and time\n",
    "sns.boxplot(x=\"Algorithm\", y=\"error\",\n",
    "            hue=\"C\", palette=[\"m\", \"g\", \"r\"], showfliers = True,\n",
    "            data=df_all[df_all['direction'] == 'vx'].drop(index)).set(\n",
    "    xlabel=None, \n",
    "    ylabel=f'Squared $l_2$ error ($v_y$)'\n",
    "#     ylabel=f'Squared $l_2$ error ($v_y$)'\n",
    ")\n",
    "# sns.despine(offset=10, trim=False)\n",
    "\n",
    "plt.savefig('merrorx_remove.png', bbox_inches = 'tight')"
   ]
  },
  {
   "cell_type": "code",
   "execution_count": 31,
   "id": "0f22a394",
   "metadata": {},
   "outputs": [
    {
     "name": "stdout",
     "output_type": "stream",
     "text": [
      "8\n",
      "The following are the outliers in the boxplot:19    0.145425\n",
      "29    0.769565\n",
      "31    1.247323\n",
      "58    0.152765\n",
      "64    0.134975\n",
      "69    0.137380\n",
      "83    0.165735\n",
      "93    0.257833\n",
      "Name: error, dtype: float64\n",
      "0.05676925105357448\n"
     ]
    },
    {
     "data": {
      "text/plain": [
       "0.14699253044159877"
      ]
     },
     "execution_count": 31,
     "metadata": {},
     "output_type": "execute_result"
    }
   ],
   "source": [
    "arr1 = df_all[(df_all['C'] ==0) & \n",
    "       (df_all['direction']=='vx') & \n",
    "       (df_all['Algorithm'] =='Simulated tempering')]['error']\n",
    "# finding the 1st quartile\n",
    "q1 = np.quantile(arr1, 0.25)\n",
    "\n",
    "# finding the 3rd quartile\n",
    "q3 = np.quantile(arr1, 0.75)\n",
    "med = np.median(arr1)\n",
    "\n",
    "# finding the iqr region\n",
    "iqr = q3-q1\n",
    "\n",
    "# finding upper and lower whiskers\n",
    "upper_bound = q3+(1.5*iqr)\n",
    "lower_bound = q1-(1.5*iqr)\n",
    "outliers = arr1[(arr1 < lower_bound) | (arr1 > upper_bound)]\n",
    "print(len(outliers))\n",
    "print('The following are the outliers in the boxplot:{}'.format(outliers))\n",
    "print(np.mean(np.delete(list(arr1), index)))\n",
    "\n",
    "np.std(np.delete(list(arr1), index))\n"
   ]
  }
 ],
 "metadata": {
  "kernelspec": {
   "display_name": "Python 3",
   "language": "python",
   "name": "python3"
  },
  "language_info": {
   "codemirror_mode": {
    "name": "ipython",
    "version": 3
   },
   "file_extension": ".py",
   "mimetype": "text/x-python",
   "name": "python",
   "nbconvert_exporter": "python",
   "pygments_lexer": "ipython3",
   "version": "3.8.10"
  }
 },
 "nbformat": 4,
 "nbformat_minor": 5
}
